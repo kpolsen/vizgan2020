{
 "cells": [
  {
   "cell_type": "code",
   "execution_count": 12,
   "metadata": {},
   "outputs": [
    {
     "name": "stdout",
     "output_type": "stream",
     "text": [
      "The autoreload extension is already loaded. To reload it, use:\n",
      "  %reload_ext autoreload\n"
     ]
    },
    {
     "data": {
      "text/plain": [
       "'C:\\\\Users\\\\luis_\\\\karen\\\\vizgan2020'"
      ]
     },
     "execution_count": 12,
     "metadata": {},
     "output_type": "execute_result"
    }
   ],
   "source": [
    "%matplotlib inline\n",
    "%load_ext autoreload\n",
    "%autoreload 2\n",
    "import numpy as np\n",
    "import matplotlib\n",
    "import matplotlib.pyplot as plt\n",
    "import pandas as pd\n",
    "import h5py\n",
    "import os\n",
    "os.getcwd()"
   ]
  },
  {
   "cell_type": "code",
   "execution_count": 34,
   "metadata": {},
   "outputs": [
    {
     "name": "stdout",
     "output_type": "stream",
     "text": [
      "<KeysViewHDF5 ['data']>\n",
      "ItemsViewHDF5(<HDF5 group \"/data\" (4 members)>)\n",
      "<HDF5 dataset \"axis0\": shape (63,), type \"|S15\">\n",
      "<HDF5 dataset \"axis1\": shape (67091,), type \"<i8\">\n",
      "[b'CR' b'FUV' b'P_ext' b'Z' b'a_C' b'a_Ca' b'a_Fe' b'a_He' b'a_Mg' b'a_N'\n",
      " b'a_Ne' b'a_O' b'a_S' b'a_Si' b'f_H21' b'f_HI1' b'f_neu' b'h' b'm'\n",
      " b'sigma_gas' b'sigma_star' b'surf_gas' b'surf_star' b'vel_disp_gas' b'vx'\n",
      " b'vy' b'vz' b'x' b'y' b'z' b'Rgmc' b'Mgmc_fit' b'FUV_fit' b'Z_fit'\n",
      " b'P_ext_fit' b'm_dust' b'm_H' b'm_H2' b'm_HI' b'm_HII' b'm_C' b'm_CII'\n",
      " b'm_CIII' b'm_CIV' b'm_CO' b'Tkmw' b'nHmw' b'nHmin' b'nHmax' b'L_CII'\n",
      " b'L_OI' b'L_OIII_88' b'L_NII_122' b'L_NII_205' b'L_CI_609' b'L_CI_369'\n",
      " b'L_CO32' b'L_CO21' b'L_CO10' b'f_H2' b'f_HI' b'f_HII' b'closest_model_i']\n",
      "[[6.10660697e-15 2.03553566e+02 2.90009444e+03 ... 3.52915671e-03\n",
      "  1.45330947e-05 1.21600000e+03]\n",
      " [6.10660697e-15 2.03553566e+02 2.90009444e+03 ... 7.81162493e-01\n",
      "  5.52838366e-03 1.92000000e+02]\n",
      " [6.10660697e-15 2.03553566e+02 2.90009444e+03 ... 3.53658993e-03\n",
      "  1.45637048e-05 1.21600000e+03]\n",
      " ...\n",
      " [5.14469001e-12 1.71489667e+05 1.05090056e+12 ... 7.03151619e-03\n",
      "  4.15516977e-08 5.11000000e+02]\n",
      " [5.14469001e-12 1.71489667e+05 1.05090056e+12 ... 8.49577054e-03\n",
      "  6.72331554e-08 1.02300000e+03]\n",
      " [5.14469001e-12 1.71489667e+05 1.05090056e+12 ... 5.89413469e-03\n",
      "  2.77432299e-08 5.11000000e+02]]\n",
      "['axis0', 'axis1', 'block0_items', 'block0_values']\n"
     ]
    },
    {
     "name": "stderr",
     "output_type": "stream",
     "text": [
      "<ipython-input-34-0eefe26a7969>:9: H5pyDeprecationWarning: dataset.value has been deprecated. Use dataset[()] instead.\n",
      "  print(gmcgas.get('data/block0_items').value)#.items())#.items())\n",
      "<ipython-input-34-0eefe26a7969>:10: H5pyDeprecationWarning: dataset.value has been deprecated. Use dataset[()] instead.\n",
      "  print(gmcgas.get('data/block0_values').value)#.items())#.items())\n"
     ]
    },
    {
     "ename": "NameError",
     "evalue": "name 'sage' is not defined",
     "output_type": "error",
     "traceback": [
      "\u001b[1;31m---------------------------------------------------------------------------\u001b[0m",
      "\u001b[1;31mNameError\u001b[0m                                 Traceback (most recent call last)",
      "\u001b[1;32m<ipython-input-34-0eefe26a7969>\u001b[0m in \u001b[0;36m<module>\u001b[1;34m\u001b[0m\n\u001b[0;32m     16\u001b[0m     \u001b[0mprint\u001b[0m\u001b[1;33m(\u001b[0m\u001b[0mdata\u001b[0m\u001b[1;33m)\u001b[0m\u001b[1;33m\u001b[0m\u001b[1;33m\u001b[0m\u001b[0m\n\u001b[0;32m     17\u001b[0m \u001b[1;31m#     M_gmc = np.sum(gmcgas.m)\u001b[0m\u001b[1;33m\u001b[0m\u001b[1;33m\u001b[0m\u001b[1;33m\u001b[0m\u001b[0m\n\u001b[1;32m---> 18\u001b[1;33m     \u001b[0ms\u001b[0m \u001b[1;33m=\u001b[0m \u001b[0msage\u001b[0m\u001b[1;33m\u001b[0m\u001b[1;33m\u001b[0m\u001b[0m\n\u001b[0m",
      "\u001b[1;31mNameError\u001b[0m: name 'sage' is not defined"
     ]
    }
   ],
   "source": [
    "for galname in df.galnames:\n",
    "    gmcgas = h5py.File('D:\\\\karen_things\\\\ISM_data_m2550100_11137/z5.93_%s_GMC.h5' % galname,'r')\n",
    "#     gmcgas = h5py.File('/cygdrive/d/karen_things/ISM_data_m2550100_11137/z5.93_%s_GMC.h5','r')\n",
    "    print(gmcgas.keys())\n",
    "    print(gmcgas.get('data').items())#.items())\n",
    "\n",
    "    print(gmcgas.get('data/axis0'))\n",
    "    print(gmcgas.get('data/axis1'))#.items())#.items())\n",
    "    print(gmcgas.get('data/block0_items').value)#.items())#.items())\n",
    "    print(gmcgas.get('data/block0_values').value)#.items())#.items())\n",
    "\n",
    "    a_group_key = list(gmcgas.keys())[0]\n",
    "\n",
    "    # Get the data\n",
    "    data = list(gmcgas[a_group_key])\n",
    "    print(data)\n",
    "#     M_gmc = np.sum(gmcgas.m)\n",
    "    s = sage"
   ]
  },
  {
   "cell_type": "code",
   "execution_count": 4,
   "metadata": {},
   "outputs": [
    {
     "data": {
      "text/plain": [
       "Index(['GroupID', 'galnames', 'MBH', 'fedd', 'SFR_x', 'SFRSD_gasR_caesar',\n",
       "       'SFRSD_gasR_manual', 'gasSD_caesar', 'gasSD_manual', 'r_gas_half_mass',\n",
       "       'r_stellar_half_mass', 'Zstellar', 'Zmass', 'fgas', 'DGR', 'DTM',\n",
       "       'Central', 'Mhalo_parent', 'HID', 'zreds', 'N_gal', 'R_gal', 'M_gas',\n",
       "       'M_star', 'M_GMC', 'M_dense', 'M_dm', 'SFR_y', 'SFRsim', 'SFRsd',\n",
       "       'Zsfr', 'f_dense', 'mw_age', 'SFRsd_Rhalf', 'L_CII_GMC', 'L_CII_dif',\n",
       "       'L_CII_DNG', 'L_CII_DIG', 'L_CII', 'L_OI_GMC', 'L_OI_dif', 'L_OI_DNG',\n",
       "       'L_OI_DIG', 'L_OI', 'L_OIII_88_GMC', 'L_OIII_88_dif', 'L_OIII_88_DNG',\n",
       "       'L_OIII_88_DIG', 'L_OIII_88', 'L_NII_122_GMC', 'L_NII_122_dif',\n",
       "       'L_NII_122_DNG', 'L_NII_122_DIG', 'L_NII_122', 'L_NII_205_GMC',\n",
       "       'L_NII_205_dif', 'L_NII_205_DNG', 'L_NII_205_DIG', 'L_NII_205',\n",
       "       'L_CI_609_GMC', 'L_CI_609_dif', 'L_CI_609_DNG', 'L_CI_609_DIG',\n",
       "       'L_CI_609', 'L_CI_369_GMC', 'L_CI_369_dif', 'L_CI_369_DNG',\n",
       "       'L_CI_369_DIG', 'L_CI_369', 'L_CO32_GMC', 'L_CO32_dif', 'L_CO32_DNG',\n",
       "       'L_CO32_DIG', 'L_CO32', 'L_CO21_GMC', 'L_CO21_dif', 'L_CO21_DNG',\n",
       "       'L_CO21_DIG', 'L_CO21', 'L_CO10_GMC', 'L_CO10_dif', 'L_CO10_DNG',\n",
       "       'L_CO10_DIG', 'L_CO10', 'lum_dist', 'M_dif', 'M_DNG', 'M_DIG', 'Zmw'],\n",
       "      dtype='object')"
      ]
     },
     "execution_count": 4,
     "metadata": {},
     "output_type": "execute_result"
    }
   ],
   "source": [
    "df = pd.read_pickle('data/combinedPD.pkl')\n",
    "df.keys()"
   ]
  },
  {
   "cell_type": "code",
   "execution_count": 3,
   "metadata": {},
   "outputs": [
    {
     "data": {
      "text/html": [
       "<div>\n",
       "<style scoped>\n",
       "    .dataframe tbody tr th:only-of-type {\n",
       "        vertical-align: middle;\n",
       "    }\n",
       "\n",
       "    .dataframe tbody tr th {\n",
       "        vertical-align: top;\n",
       "    }\n",
       "\n",
       "    .dataframe thead th {\n",
       "        text-align: right;\n",
       "    }\n",
       "</style>\n",
       "<table border=\"1\" class=\"dataframe\">\n",
       "  <thead>\n",
       "    <tr style=\"text-align: right;\">\n",
       "      <th></th>\n",
       "      <th>GroupID</th>\n",
       "      <th>galnames</th>\n",
       "      <th>MBH</th>\n",
       "      <th>fedd</th>\n",
       "      <th>SFR_x</th>\n",
       "      <th>SFRSD_gasR_caesar</th>\n",
       "      <th>SFRSD_gasR_manual</th>\n",
       "      <th>gasSD_caesar</th>\n",
       "      <th>gasSD_manual</th>\n",
       "      <th>r_gas_half_mass</th>\n",
       "      <th>...</th>\n",
       "      <th>L_CO10_GMC</th>\n",
       "      <th>L_CO10_dif</th>\n",
       "      <th>L_CO10_DNG</th>\n",
       "      <th>L_CO10_DIG</th>\n",
       "      <th>L_CO10</th>\n",
       "      <th>lum_dist</th>\n",
       "      <th>M_dif</th>\n",
       "      <th>M_DNG</th>\n",
       "      <th>M_DIG</th>\n",
       "      <th>Zmw</th>\n",
       "    </tr>\n",
       "  </thead>\n",
       "  <tbody>\n",
       "    <tr>\n",
       "      <th>0</th>\n",
       "      <td>0</td>\n",
       "      <td>h2_s36_G0</td>\n",
       "      <td>1.241183e+07</td>\n",
       "      <td>0.586401</td>\n",
       "      <td>177.714922</td>\n",
       "      <td>8.473416</td>\n",
       "      <td>12.460905</td>\n",
       "      <td>311.237884</td>\n",
       "      <td>59386.967339</td>\n",
       "      <td>0.132261</td>\n",
       "      <td>...</td>\n",
       "      <td>776.050801</td>\n",
       "      <td>0.000000e+00</td>\n",
       "      <td>0.000000e+00</td>\n",
       "      <td>0.000000e+00</td>\n",
       "      <td>776.050801</td>\n",
       "      <td>56945.50806</td>\n",
       "      <td>4.424885e+09</td>\n",
       "      <td>0.000000</td>\n",
       "      <td>4.424885e+09</td>\n",
       "      <td>0.401542</td>\n",
       "    </tr>\n",
       "    <tr>\n",
       "      <th>1</th>\n",
       "      <td>1</td>\n",
       "      <td>h0_s36_G1</td>\n",
       "      <td>1.352769e+06</td>\n",
       "      <td>0.010584</td>\n",
       "      <td>69.993161</td>\n",
       "      <td>9.216621</td>\n",
       "      <td>13.553853</td>\n",
       "      <td>180.646076</td>\n",
       "      <td>10066.516967</td>\n",
       "      <td>0.147256</td>\n",
       "      <td>...</td>\n",
       "      <td>415.894237</td>\n",
       "      <td>0.000000e+00</td>\n",
       "      <td>0.000000e+00</td>\n",
       "      <td>0.000000e+00</td>\n",
       "      <td>415.894237</td>\n",
       "      <td>56945.50806</td>\n",
       "      <td>6.043106e+08</td>\n",
       "      <td>0.000000</td>\n",
       "      <td>6.043106e+08</td>\n",
       "      <td>0.598872</td>\n",
       "    </tr>\n",
       "    <tr>\n",
       "      <th>2</th>\n",
       "      <td>9</td>\n",
       "      <td>h0_s36_G2</td>\n",
       "      <td>0.000000e+00</td>\n",
       "      <td>0.000000</td>\n",
       "      <td>25.881822</td>\n",
       "      <td>0.589412</td>\n",
       "      <td>0.866782</td>\n",
       "      <td>83.828914</td>\n",
       "      <td>738.378582</td>\n",
       "      <td>0.890855</td>\n",
       "      <td>...</td>\n",
       "      <td>179.492471</td>\n",
       "      <td>7.697462e-16</td>\n",
       "      <td>3.650407e-17</td>\n",
       "      <td>7.332421e-16</td>\n",
       "      <td>179.492471</td>\n",
       "      <td>56945.50806</td>\n",
       "      <td>2.454847e+09</td>\n",
       "      <td>4673.302697</td>\n",
       "      <td>2.454843e+09</td>\n",
       "      <td>0.073832</td>\n",
       "    </tr>\n",
       "    <tr>\n",
       "      <th>3</th>\n",
       "      <td>2</td>\n",
       "      <td>h1_s36_G16034</td>\n",
       "      <td>9.237805e+05</td>\n",
       "      <td>0.698771</td>\n",
       "      <td>24.214151</td>\n",
       "      <td>0.705623</td>\n",
       "      <td>1.037681</td>\n",
       "      <td>239.187050</td>\n",
       "      <td>618.027251</td>\n",
       "      <td>1.453916</td>\n",
       "      <td>...</td>\n",
       "      <td>1576.832233</td>\n",
       "      <td>5.314860e-16</td>\n",
       "      <td>5.193018e-17</td>\n",
       "      <td>4.795558e-16</td>\n",
       "      <td>1576.832233</td>\n",
       "      <td>56945.50806</td>\n",
       "      <td>5.636036e+09</td>\n",
       "      <td>6064.465265</td>\n",
       "      <td>5.636030e+09</td>\n",
       "      <td>0.075914</td>\n",
       "    </tr>\n",
       "    <tr>\n",
       "      <th>4</th>\n",
       "      <td>17</td>\n",
       "      <td>h0_s36_G4</td>\n",
       "      <td>0.000000e+00</td>\n",
       "      <td>0.000000</td>\n",
       "      <td>23.298845</td>\n",
       "      <td>2.947142</td>\n",
       "      <td>4.334032</td>\n",
       "      <td>126.811160</td>\n",
       "      <td>9960.345266</td>\n",
       "      <td>0.126570</td>\n",
       "      <td>...</td>\n",
       "      <td>149.713203</td>\n",
       "      <td>0.000000e+00</td>\n",
       "      <td>0.000000e+00</td>\n",
       "      <td>0.000000e+00</td>\n",
       "      <td>149.713203</td>\n",
       "      <td>56945.50806</td>\n",
       "      <td>3.654702e+08</td>\n",
       "      <td>0.000000</td>\n",
       "      <td>3.654702e+08</td>\n",
       "      <td>0.054799</td>\n",
       "    </tr>\n",
       "  </tbody>\n",
       "</table>\n",
       "<p>5 rows × 89 columns</p>\n",
       "</div>"
      ],
      "text/plain": [
       "   GroupID       galnames           MBH      fedd       SFR_x  \\\n",
       "0        0      h2_s36_G0  1.241183e+07  0.586401  177.714922   \n",
       "1        1      h0_s36_G1  1.352769e+06  0.010584   69.993161   \n",
       "2        9      h0_s36_G2  0.000000e+00  0.000000   25.881822   \n",
       "3        2  h1_s36_G16034  9.237805e+05  0.698771   24.214151   \n",
       "4       17      h0_s36_G4  0.000000e+00  0.000000   23.298845   \n",
       "\n",
       "   SFRSD_gasR_caesar  SFRSD_gasR_manual  gasSD_caesar  gasSD_manual  \\\n",
       "0           8.473416          12.460905    311.237884  59386.967339   \n",
       "1           9.216621          13.553853    180.646076  10066.516967   \n",
       "2           0.589412           0.866782     83.828914    738.378582   \n",
       "3           0.705623           1.037681    239.187050    618.027251   \n",
       "4           2.947142           4.334032    126.811160   9960.345266   \n",
       "\n",
       "   r_gas_half_mass  ...   L_CO10_GMC    L_CO10_dif    L_CO10_DNG  \\\n",
       "0         0.132261  ...   776.050801  0.000000e+00  0.000000e+00   \n",
       "1         0.147256  ...   415.894237  0.000000e+00  0.000000e+00   \n",
       "2         0.890855  ...   179.492471  7.697462e-16  3.650407e-17   \n",
       "3         1.453916  ...  1576.832233  5.314860e-16  5.193018e-17   \n",
       "4         0.126570  ...   149.713203  0.000000e+00  0.000000e+00   \n",
       "\n",
       "     L_CO10_DIG       L_CO10     lum_dist         M_dif        M_DNG  \\\n",
       "0  0.000000e+00   776.050801  56945.50806  4.424885e+09     0.000000   \n",
       "1  0.000000e+00   415.894237  56945.50806  6.043106e+08     0.000000   \n",
       "2  7.332421e-16   179.492471  56945.50806  2.454847e+09  4673.302697   \n",
       "3  4.795558e-16  1576.832233  56945.50806  5.636036e+09  6064.465265   \n",
       "4  0.000000e+00   149.713203  56945.50806  3.654702e+08     0.000000   \n",
       "\n",
       "          M_DIG       Zmw  \n",
       "0  4.424885e+09  0.401542  \n",
       "1  6.043106e+08  0.598872  \n",
       "2  2.454843e+09  0.073832  \n",
       "3  5.636030e+09  0.075914  \n",
       "4  3.654702e+08  0.054799  \n",
       "\n",
       "[5 rows x 89 columns]"
      ]
     },
     "execution_count": 3,
     "metadata": {},
     "output_type": "execute_result"
    }
   ],
   "source": [
    "df.head()"
   ]
  },
  {
   "cell_type": "code",
   "execution_count": 5,
   "metadata": {},
   "outputs": [
    {
     "data": {
      "text/plain": [
       "array([5.93])"
      ]
     },
     "execution_count": 5,
     "metadata": {},
     "output_type": "execute_result"
    }
   ],
   "source": [
    "np.unique(df.zreds)"
   ]
  },
  {
   "cell_type": "code",
   "execution_count": null,
   "metadata": {},
   "outputs": [],
   "source": []
  }
 ],
 "metadata": {
  "kernelspec": {
   "display_name": "Python 3",
   "language": "python",
   "name": "python3"
  },
  "language_info": {
   "codemirror_mode": {
    "name": "ipython",
    "version": 3
   },
   "file_extension": ".py",
   "mimetype": "text/x-python",
   "name": "python",
   "nbconvert_exporter": "python",
   "pygments_lexer": "ipython3",
   "version": "3.8.3"
  }
 },
 "nbformat": 4,
 "nbformat_minor": 4
}
